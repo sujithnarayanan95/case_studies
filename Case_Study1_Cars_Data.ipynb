{
 "cells": [
  {
   "cell_type": "markdown",
   "metadata": {},
   "source": [
    "# Case Study 1: Case Study on Presentation of Data"
   ]
  },
  {
   "cell_type": "code",
   "execution_count": null,
   "metadata": {},
   "outputs": [],
   "source": []
  },
  {
   "cell_type": "markdown",
   "metadata": {},
   "source": [
    "## Problem Statement:\n",
    "Do the following operations on ‘cars_data’ dataset:\n",
    "1. Read the dataset to the python environment.\n",
    "2. Check for the null values present in the dataset.\n",
    "3. Plot a bar graph of male vs female buyers participated in the sales.\n",
    "4. Find the top 5 cars based on their sales price.\n",
    "5. Find the least 5 cars based on their Resell price."
   ]
  },
  {
   "cell_type": "code",
   "execution_count": null,
   "metadata": {},
   "outputs": [],
   "source": []
  },
  {
   "cell_type": "code",
   "execution_count": 1,
   "metadata": {},
   "outputs": [],
   "source": [
    "#importing libraries and dependencies\n",
    "\n",
    "import pandas as pd\n",
    "import numpy as np\n",
    "import matplotlib.pyplot as plt\n",
    "import seaborn as sns\n",
    "import warnings\n",
    "warnings.filterwarnings('ignore')"
   ]
  },
  {
   "cell_type": "code",
   "execution_count": null,
   "metadata": {},
   "outputs": [],
   "source": []
  },
  {
   "cell_type": "markdown",
   "metadata": {},
   "source": [
    "### Step 1: Reading the Dataset to the Notebook"
   ]
  },
  {
   "cell_type": "code",
   "execution_count": 2,
   "metadata": {},
   "outputs": [
    {
     "data": {
      "text/html": [
       "<div>\n",
       "<style scoped>\n",
       "    .dataframe tbody tr th:only-of-type {\n",
       "        vertical-align: middle;\n",
       "    }\n",
       "\n",
       "    .dataframe tbody tr th {\n",
       "        vertical-align: top;\n",
       "    }\n",
       "\n",
       "    .dataframe thead th {\n",
       "        text-align: right;\n",
       "    }\n",
       "</style>\n",
       "<table border=\"1\" class=\"dataframe\">\n",
       "  <thead>\n",
       "    <tr style=\"text-align: right;\">\n",
       "      <th></th>\n",
       "      <th>Make</th>\n",
       "      <th>Model</th>\n",
       "      <th>Nickname</th>\n",
       "      <th>Car Gender</th>\n",
       "      <th>Buyer Gender</th>\n",
       "      <th>Buyer Age</th>\n",
       "      <th>Buzzword</th>\n",
       "      <th>Country</th>\n",
       "      <th>City</th>\n",
       "      <th>Dealer Latitude</th>\n",
       "      <th>Dealer Longitude</th>\n",
       "      <th>Color</th>\n",
       "      <th>New Car</th>\n",
       "      <th>Purchase Date</th>\n",
       "      <th>Sale Price</th>\n",
       "      <th>Discount</th>\n",
       "      <th>Resell Price</th>\n",
       "      <th>5-yr Depreciation</th>\n",
       "      <th>Top Speed</th>\n",
       "      <th>0-60 Time</th>\n",
       "    </tr>\n",
       "  </thead>\n",
       "  <tbody>\n",
       "    <tr>\n",
       "      <th>0</th>\n",
       "      <td>Suzuki</td>\n",
       "      <td>Vitara</td>\n",
       "      <td>Philippine</td>\n",
       "      <td>Female</td>\n",
       "      <td>Female</td>\n",
       "      <td>51</td>\n",
       "      <td>User-friendly</td>\n",
       "      <td>Belgium</td>\n",
       "      <td>Antwerpen</td>\n",
       "      <td>51.247239</td>\n",
       "      <td>4.440346</td>\n",
       "      <td>Yellow</td>\n",
       "      <td>False</td>\n",
       "      <td>19/07/2009</td>\n",
       "      <td>54806.14</td>\n",
       "      <td>0.2467</td>\n",
       "      <td>33858.32</td>\n",
       "      <td>0.13</td>\n",
       "      <td>200.9</td>\n",
       "      <td>11.5</td>\n",
       "    </tr>\n",
       "    <tr>\n",
       "      <th>1</th>\n",
       "      <td>Honda</td>\n",
       "      <td>S2000</td>\n",
       "      <td>Henrik</td>\n",
       "      <td>Male</td>\n",
       "      <td>Male</td>\n",
       "      <td>30</td>\n",
       "      <td>analyzing</td>\n",
       "      <td>China</td>\n",
       "      <td>Jinhu</td>\n",
       "      <td>33.025433</td>\n",
       "      <td>119.020584</td>\n",
       "      <td>Crimson</td>\n",
       "      <td>False</td>\n",
       "      <td>26/10/2015</td>\n",
       "      <td>51826.30</td>\n",
       "      <td>0.3147</td>\n",
       "      <td>2989.28</td>\n",
       "      <td>0.02</td>\n",
       "      <td>158.5</td>\n",
       "      <td>8.8</td>\n",
       "    </tr>\n",
       "    <tr>\n",
       "      <th>2</th>\n",
       "      <td>BMW</td>\n",
       "      <td>Z4</td>\n",
       "      <td>Lebbie</td>\n",
       "      <td>Male</td>\n",
       "      <td>Female</td>\n",
       "      <td>54</td>\n",
       "      <td>software</td>\n",
       "      <td>China</td>\n",
       "      <td>Gemo</td>\n",
       "      <td>30.916207</td>\n",
       "      <td>121.677640</td>\n",
       "      <td>Khaki</td>\n",
       "      <td>False</td>\n",
       "      <td>28/03/2010</td>\n",
       "      <td>82929.14</td>\n",
       "      <td>0.5414</td>\n",
       "      <td>35049.16</td>\n",
       "      <td>0.24</td>\n",
       "      <td>149.5</td>\n",
       "      <td>14.4</td>\n",
       "    </tr>\n",
       "    <tr>\n",
       "      <th>3</th>\n",
       "      <td>Toyota</td>\n",
       "      <td>Tacoma</td>\n",
       "      <td>Jefferey</td>\n",
       "      <td>Female</td>\n",
       "      <td>Male</td>\n",
       "      <td>68</td>\n",
       "      <td>monitoring</td>\n",
       "      <td>Portugal</td>\n",
       "      <td>Queluz de Baixo</td>\n",
       "      <td>38.745168</td>\n",
       "      <td>-9.267087</td>\n",
       "      <td>Puce</td>\n",
       "      <td>False</td>\n",
       "      <td>07/05/2008</td>\n",
       "      <td>56928.66</td>\n",
       "      <td>0.0850</td>\n",
       "      <td>8236.15</td>\n",
       "      <td>0.20</td>\n",
       "      <td>153.3</td>\n",
       "      <td>11.5</td>\n",
       "    </tr>\n",
       "    <tr>\n",
       "      <th>4</th>\n",
       "      <td>Ford</td>\n",
       "      <td>Festiva</td>\n",
       "      <td>Glendon</td>\n",
       "      <td>Female</td>\n",
       "      <td>Male</td>\n",
       "      <td>70</td>\n",
       "      <td>Sharable</td>\n",
       "      <td>Latvia</td>\n",
       "      <td>Jaunpils</td>\n",
       "      <td>56.729980</td>\n",
       "      <td>23.016588</td>\n",
       "      <td>Yellow</td>\n",
       "      <td>False</td>\n",
       "      <td>01/06/2008</td>\n",
       "      <td>77201.26</td>\n",
       "      <td>0.1642</td>\n",
       "      <td>32765.76</td>\n",
       "      <td>0.18</td>\n",
       "      <td>122.0</td>\n",
       "      <td>14.9</td>\n",
       "    </tr>\n",
       "  </tbody>\n",
       "</table>\n",
       "</div>"
      ],
      "text/plain": [
       "     Make    Model    Nickname Car Gender Buyer Gender  Buyer Age  \\\n",
       "0  Suzuki   Vitara  Philippine     Female       Female         51   \n",
       "1   Honda    S2000      Henrik       Male         Male         30   \n",
       "2     BMW       Z4      Lebbie       Male       Female         54   \n",
       "3  Toyota   Tacoma    Jefferey     Female         Male         68   \n",
       "4    Ford  Festiva     Glendon     Female         Male         70   \n",
       "\n",
       "        Buzzword   Country             City  Dealer Latitude  \\\n",
       "0  User-friendly   Belgium        Antwerpen        51.247239   \n",
       "1      analyzing     China            Jinhu        33.025433   \n",
       "2       software     China             Gemo        30.916207   \n",
       "3     monitoring  Portugal  Queluz de Baixo        38.745168   \n",
       "4       Sharable    Latvia         Jaunpils        56.729980   \n",
       "\n",
       "   Dealer Longitude    Color  New Car Purchase Date  Sale Price  Discount  \\\n",
       "0          4.440346   Yellow    False    19/07/2009    54806.14    0.2467   \n",
       "1        119.020584  Crimson    False    26/10/2015    51826.30    0.3147   \n",
       "2        121.677640    Khaki    False    28/03/2010    82929.14    0.5414   \n",
       "3         -9.267087     Puce    False    07/05/2008    56928.66    0.0850   \n",
       "4         23.016588   Yellow    False    01/06/2008    77201.26    0.1642   \n",
       "\n",
       "   Resell Price  5-yr Depreciation  Top Speed  0-60 Time  \n",
       "0      33858.32               0.13      200.9       11.5  \n",
       "1       2989.28               0.02      158.5        8.8  \n",
       "2      35049.16               0.24      149.5       14.4  \n",
       "3       8236.15               0.20      153.3       11.5  \n",
       "4      32765.76               0.18      122.0       14.9  "
      ]
     },
     "execution_count": 2,
     "metadata": {},
     "output_type": "execute_result"
    }
   ],
   "source": [
    "#loading cars_data to pandas DataFrame\n",
    "\n",
    "cars_data = pd.read_csv('cars_data.csv')\n",
    "cars_data.head()"
   ]
  },
  {
   "cell_type": "code",
   "execution_count": null,
   "metadata": {},
   "outputs": [],
   "source": []
  },
  {
   "cell_type": "code",
   "execution_count": 3,
   "metadata": {},
   "outputs": [
    {
     "data": {
      "text/html": [
       "<div>\n",
       "<style scoped>\n",
       "    .dataframe tbody tr th:only-of-type {\n",
       "        vertical-align: middle;\n",
       "    }\n",
       "\n",
       "    .dataframe tbody tr th {\n",
       "        vertical-align: top;\n",
       "    }\n",
       "\n",
       "    .dataframe thead th {\n",
       "        text-align: right;\n",
       "    }\n",
       "</style>\n",
       "<table border=\"1\" class=\"dataframe\">\n",
       "  <thead>\n",
       "    <tr style=\"text-align: right;\">\n",
       "      <th></th>\n",
       "      <th>Make</th>\n",
       "      <th>Model</th>\n",
       "      <th>Nickname</th>\n",
       "      <th>Car Gender</th>\n",
       "      <th>Buyer Gender</th>\n",
       "      <th>Buyer Age</th>\n",
       "      <th>Buzzword</th>\n",
       "      <th>Country</th>\n",
       "      <th>City</th>\n",
       "      <th>Dealer Latitude</th>\n",
       "      <th>Dealer Longitude</th>\n",
       "      <th>Color</th>\n",
       "      <th>New Car</th>\n",
       "      <th>Purchase Date</th>\n",
       "      <th>Sale Price</th>\n",
       "      <th>Discount</th>\n",
       "      <th>Resell Price</th>\n",
       "      <th>5-yr Depreciation</th>\n",
       "      <th>Top Speed</th>\n",
       "      <th>0-60 Time</th>\n",
       "    </tr>\n",
       "  </thead>\n",
       "  <tbody>\n",
       "    <tr>\n",
       "      <th>9995</th>\n",
       "      <td>Mazda</td>\n",
       "      <td>Tribute</td>\n",
       "      <td>Cooper</td>\n",
       "      <td>Male</td>\n",
       "      <td>Male</td>\n",
       "      <td>44</td>\n",
       "      <td>hardware</td>\n",
       "      <td>Pakistan</td>\n",
       "      <td>Chishtiān Mandi</td>\n",
       "      <td>29.919386</td>\n",
       "      <td>73.074787</td>\n",
       "      <td>Pink</td>\n",
       "      <td>False</td>\n",
       "      <td>05/01/2020</td>\n",
       "      <td>58580.65</td>\n",
       "      <td>0.1611</td>\n",
       "      <td>42640.82</td>\n",
       "      <td>0.14</td>\n",
       "      <td>245.8</td>\n",
       "      <td>8.0</td>\n",
       "    </tr>\n",
       "    <tr>\n",
       "      <th>9996</th>\n",
       "      <td>GMC</td>\n",
       "      <td>Sierra 2500</td>\n",
       "      <td>Dud</td>\n",
       "      <td>Male</td>\n",
       "      <td>Male</td>\n",
       "      <td>40</td>\n",
       "      <td>Enhanced</td>\n",
       "      <td>Costa Rica</td>\n",
       "      <td>Ángeles</td>\n",
       "      <td>10.075000</td>\n",
       "      <td>-84.241523</td>\n",
       "      <td>Puce</td>\n",
       "      <td>False</td>\n",
       "      <td>28/12/2005</td>\n",
       "      <td>75229.74</td>\n",
       "      <td>0.2691</td>\n",
       "      <td>21115.58</td>\n",
       "      <td>0.11</td>\n",
       "      <td>147.4</td>\n",
       "      <td>12.3</td>\n",
       "    </tr>\n",
       "    <tr>\n",
       "      <th>9997</th>\n",
       "      <td>Mercury</td>\n",
       "      <td>Mariner</td>\n",
       "      <td>Chariot</td>\n",
       "      <td>Male</td>\n",
       "      <td>Male</td>\n",
       "      <td>37</td>\n",
       "      <td>monitoring</td>\n",
       "      <td>Poland</td>\n",
       "      <td>Dąbrowice</td>\n",
       "      <td>52.311922</td>\n",
       "      <td>19.084965</td>\n",
       "      <td>Blue</td>\n",
       "      <td>False</td>\n",
       "      <td>08/03/2013</td>\n",
       "      <td>34755.44</td>\n",
       "      <td>0.2493</td>\n",
       "      <td>2731.25</td>\n",
       "      <td>0.12</td>\n",
       "      <td>198.1</td>\n",
       "      <td>11.8</td>\n",
       "    </tr>\n",
       "    <tr>\n",
       "      <th>9998</th>\n",
       "      <td>Daewoo</td>\n",
       "      <td>Leganza</td>\n",
       "      <td>Dynah</td>\n",
       "      <td>Female</td>\n",
       "      <td>Female</td>\n",
       "      <td>21</td>\n",
       "      <td>cohesive</td>\n",
       "      <td>Philippines</td>\n",
       "      <td>Villasis</td>\n",
       "      <td>15.901640</td>\n",
       "      <td>120.587828</td>\n",
       "      <td>Teal</td>\n",
       "      <td>True</td>\n",
       "      <td>21/02/2008</td>\n",
       "      <td>98725.42</td>\n",
       "      <td>0.4654</td>\n",
       "      <td>18718.58</td>\n",
       "      <td>0.04</td>\n",
       "      <td>206.7</td>\n",
       "      <td>12.2</td>\n",
       "    </tr>\n",
       "    <tr>\n",
       "      <th>9999</th>\n",
       "      <td>Toyota</td>\n",
       "      <td>Sequoia</td>\n",
       "      <td>Zedekiah</td>\n",
       "      <td>Female</td>\n",
       "      <td>Male</td>\n",
       "      <td>21</td>\n",
       "      <td>analyzing</td>\n",
       "      <td>Philippines</td>\n",
       "      <td>Basud</td>\n",
       "      <td>14.048167</td>\n",
       "      <td>122.955697</td>\n",
       "      <td>Pink</td>\n",
       "      <td>False</td>\n",
       "      <td>16/12/2017</td>\n",
       "      <td>96769.78</td>\n",
       "      <td>0.5446</td>\n",
       "      <td>4545.95</td>\n",
       "      <td>0.07</td>\n",
       "      <td>242.1</td>\n",
       "      <td>3.2</td>\n",
       "    </tr>\n",
       "  </tbody>\n",
       "</table>\n",
       "</div>"
      ],
      "text/plain": [
       "         Make        Model  Nickname Car Gender Buyer Gender  Buyer Age  \\\n",
       "9995    Mazda      Tribute    Cooper       Male         Male         44   \n",
       "9996      GMC  Sierra 2500       Dud       Male         Male         40   \n",
       "9997  Mercury      Mariner   Chariot       Male         Male         37   \n",
       "9998   Daewoo      Leganza     Dynah     Female       Female         21   \n",
       "9999   Toyota      Sequoia  Zedekiah     Female         Male         21   \n",
       "\n",
       "        Buzzword      Country             City  Dealer Latitude  \\\n",
       "9995    hardware     Pakistan  Chishtiān Mandi        29.919386   \n",
       "9996    Enhanced   Costa Rica          Ángeles        10.075000   \n",
       "9997  monitoring       Poland        Dąbrowice        52.311922   \n",
       "9998    cohesive  Philippines         Villasis        15.901640   \n",
       "9999   analyzing  Philippines            Basud        14.048167   \n",
       "\n",
       "      Dealer Longitude Color  New Car Purchase Date  Sale Price  Discount  \\\n",
       "9995         73.074787  Pink    False    05/01/2020    58580.65    0.1611   \n",
       "9996        -84.241523  Puce    False    28/12/2005    75229.74    0.2691   \n",
       "9997         19.084965  Blue    False    08/03/2013    34755.44    0.2493   \n",
       "9998        120.587828  Teal     True    21/02/2008    98725.42    0.4654   \n",
       "9999        122.955697  Pink    False    16/12/2017    96769.78    0.5446   \n",
       "\n",
       "      Resell Price  5-yr Depreciation  Top Speed  0-60 Time  \n",
       "9995      42640.82               0.14      245.8        8.0  \n",
       "9996      21115.58               0.11      147.4       12.3  \n",
       "9997       2731.25               0.12      198.1       11.8  \n",
       "9998      18718.58               0.04      206.7       12.2  \n",
       "9999       4545.95               0.07      242.1        3.2  "
      ]
     },
     "execution_count": 3,
     "metadata": {},
     "output_type": "execute_result"
    }
   ],
   "source": [
    "cars_data.tail()"
   ]
  },
  {
   "cell_type": "code",
   "execution_count": null,
   "metadata": {},
   "outputs": [],
   "source": []
  },
  {
   "cell_type": "code",
   "execution_count": null,
   "metadata": {},
   "outputs": [],
   "source": []
  },
  {
   "cell_type": "code",
   "execution_count": null,
   "metadata": {},
   "outputs": [],
   "source": []
  },
  {
   "cell_type": "markdown",
   "metadata": {},
   "source": [
    "### Step 2: Checking for Null Values in the Dataset"
   ]
  },
  {
   "cell_type": "code",
   "execution_count": 4,
   "metadata": {},
   "outputs": [
    {
     "data": {
      "text/plain": [
       "Index(['Make', 'Model', 'Nickname', 'Car Gender', 'Buyer Gender', 'Buyer Age',\n",
       "       'Buzzword', 'Country', 'City', 'Dealer Latitude', 'Dealer Longitude',\n",
       "       'Color', 'New Car', 'Purchase Date', 'Sale Price', 'Discount',\n",
       "       'Resell Price', '5-yr Depreciation', 'Top Speed', '0-60 Time'],\n",
       "      dtype='object')"
      ]
     },
     "execution_count": 4,
     "metadata": {},
     "output_type": "execute_result"
    }
   ],
   "source": [
    "#checking the column names\n",
    "cars_data.columns"
   ]
  },
  {
   "cell_type": "code",
   "execution_count": 5,
   "metadata": {},
   "outputs": [
    {
     "data": {
      "text/plain": [
       "(10000, 20)"
      ]
     },
     "execution_count": 5,
     "metadata": {},
     "output_type": "execute_result"
    }
   ],
   "source": [
    "#checking the shape of the dataset\n",
    "cars_data.shape"
   ]
  },
  {
   "cell_type": "code",
   "execution_count": 6,
   "metadata": {},
   "outputs": [
    {
     "name": "stdout",
     "output_type": "stream",
     "text": [
      "<class 'pandas.core.frame.DataFrame'>\n",
      "RangeIndex: 10000 entries, 0 to 9999\n",
      "Data columns (total 20 columns):\n",
      " #   Column             Non-Null Count  Dtype  \n",
      "---  ------             --------------  -----  \n",
      " 0   Make               10000 non-null  object \n",
      " 1   Model              10000 non-null  object \n",
      " 2   Nickname           10000 non-null  object \n",
      " 3   Car Gender         10000 non-null  object \n",
      " 4   Buyer Gender       10000 non-null  object \n",
      " 5   Buyer Age          10000 non-null  int64  \n",
      " 6   Buzzword           10000 non-null  object \n",
      " 7   Country            10000 non-null  object \n",
      " 8   City               10000 non-null  object \n",
      " 9   Dealer Latitude    10000 non-null  float64\n",
      " 10  Dealer Longitude   10000 non-null  float64\n",
      " 11  Color              10000 non-null  object \n",
      " 12  New Car            10000 non-null  bool   \n",
      " 13  Purchase Date      10000 non-null  object \n",
      " 14  Sale Price         10000 non-null  float64\n",
      " 15  Discount           10000 non-null  float64\n",
      " 16  Resell Price       10000 non-null  float64\n",
      " 17  5-yr Depreciation  10000 non-null  float64\n",
      " 18  Top Speed          10000 non-null  float64\n",
      " 19  0-60 Time          10000 non-null  float64\n",
      "dtypes: bool(1), float64(8), int64(1), object(10)\n",
      "memory usage: 1.5+ MB\n"
     ]
    }
   ],
   "source": [
    "#checking for the dataset info\n",
    "cars_data.info()"
   ]
  },
  {
   "cell_type": "code",
   "execution_count": 7,
   "metadata": {},
   "outputs": [
    {
     "data": {
      "text/plain": [
       "Make                 0\n",
       "Model                0\n",
       "Nickname             0\n",
       "Car Gender           0\n",
       "Buyer Gender         0\n",
       "Buyer Age            0\n",
       "Buzzword             0\n",
       "Country              0\n",
       "City                 0\n",
       "Dealer Latitude      0\n",
       "Dealer Longitude     0\n",
       "Color                0\n",
       "New Car              0\n",
       "Purchase Date        0\n",
       "Sale Price           0\n",
       "Discount             0\n",
       "Resell Price         0\n",
       "5-yr Depreciation    0\n",
       "Top Speed            0\n",
       "0-60 Time            0\n",
       "dtype: int64"
      ]
     },
     "execution_count": 7,
     "metadata": {},
     "output_type": "execute_result"
    }
   ],
   "source": [
    "#checking for nulls \n",
    "cars_data.isna().sum()"
   ]
  },
  {
   "cell_type": "markdown",
   "metadata": {},
   "source": [
    "#### Observation:\n",
    "* The Dataset has 20 Columns and 10,000 rows or observations.\n",
    "* There is no null values or missing values in the Dataset."
   ]
  },
  {
   "cell_type": "code",
   "execution_count": null,
   "metadata": {},
   "outputs": [],
   "source": []
  },
  {
   "cell_type": "code",
   "execution_count": null,
   "metadata": {},
   "outputs": [],
   "source": []
  },
  {
   "cell_type": "code",
   "execution_count": null,
   "metadata": {},
   "outputs": [],
   "source": []
  },
  {
   "cell_type": "markdown",
   "metadata": {},
   "source": [
    "### Step 3: Plot a bar graph of male vs female buyers participated in the sales."
   ]
  },
  {
   "cell_type": "code",
   "execution_count": 8,
   "metadata": {},
   "outputs": [
    {
     "data": {
      "text/plain": [
       "Female    5052\n",
       "Male      4948\n",
       "Name: Buyer Gender, dtype: int64"
      ]
     },
     "execution_count": 8,
     "metadata": {},
     "output_type": "execute_result"
    }
   ],
   "source": [
    "cars_data['Buyer Gender'].value_counts()"
   ]
  },
  {
   "cell_type": "markdown",
   "metadata": {},
   "source": [
    "#### Observation:\n",
    "* The cars_data Dataset has records of a total of 10,000 Buyers.\n",
    "* From value_counts, we see that of total, 5052 [50.52%] are Female Buyers and 4948 [49.48%] are Male Buyers. "
   ]
  },
  {
   "cell_type": "code",
   "execution_count": null,
   "metadata": {},
   "outputs": [],
   "source": []
  },
  {
   "cell_type": "code",
   "execution_count": 9,
   "metadata": {},
   "outputs": [
    {
     "data": {
      "image/png": "[encoded data removed]",
      "text/plain": [
       "<Figure size 504x504 with 1 Axes>"
      ]
     },
     "metadata": {
      "needs_background": "light"
     },
     "output_type": "display_data"
    }
   ],
   "source": [
    "#Bar Graph [Count Plot] of Male vs Female Buyers \n",
    "\n",
    "plt.figure(figsize=(7,7))\n",
    "labels = ['Female','Male']\n",
    "sns.set_style(\"whitegrid\")\n",
    "sns.countplot(x='Buyer Gender', data=cars_data, palette='autumn',hue='Buyer Gender')\n",
    "\n",
    "plt.title(\"Buyer Genders Distribution: Count of Male vs Female Buyers)\",fontsize=14)\n",
    "plt.xlabel(\"BUYER GENDER\",fontsize=12)\n",
    "plt.ylabel(\"VALUE COUNT\",fontsize=12)\n",
    "plt.xticks(fontsize=11)\n",
    "plt.yticks(fontsize=11)\n",
    "plt.legend(loc=(1.02,0.4))\n",
    "plt.show()"
   ]
  },
  {
   "cell_type": "code",
   "execution_count": null,
   "metadata": {},
   "outputs": [],
   "source": []
  },
  {
   "cell_type": "code",
   "execution_count": 10,
   "metadata": {},
   "outputs": [
    {
     "data": {
      "image/png": "[encoded data removed]",
      "text/plain": [
       "<Figure size 504x504 with 1 Axes>"
      ]
     },
     "metadata": {},
     "output_type": "display_data"
    }
   ],
   "source": [
    "#Histogram of Male vs Female Buyers - Matplotlib PLT Method \n",
    "plt.figure(figsize=(7,7))\n",
    "plt.hist(cars_data['Buyer Gender'],color='Brown',rwidth=0.9)\n",
    "plt.title(\"Buyer Genders Distribution: Male vs Female Buyers\",fontsize=14)\n",
    "plt.xlabel(\"BUYER GENDER\",fontsize=12)\n",
    "plt.ylabel(\"COUNT\",fontsize=12)\n",
    "plt.xticks(fontsize=11)\n",
    "plt.xticks(fontsize=11)\n",
    "plt.show()"
   ]
  },
  {
   "cell_type": "code",
   "execution_count": null,
   "metadata": {},
   "outputs": [],
   "source": []
  },
  {
   "cell_type": "code",
   "execution_count": null,
   "metadata": {},
   "outputs": [],
   "source": []
  },
  {
   "cell_type": "code",
   "execution_count": 11,
   "metadata": {},
   "outputs": [],
   "source": [
    "buyer_male = cars_data.loc[:,'Buyer Gender']== 'Male'\n",
    "buyer_female = cars_data.loc[:,'Buyer Gender']== 'Female'"
   ]
  },
  {
   "cell_type": "code",
   "execution_count": 12,
   "metadata": {},
   "outputs": [
    {
     "data": {
      "image/png": "[encoded data removed]",
      "text/plain": [
       "<Figure size 648x504 with 1 Axes>"
      ]
     },
     "metadata": {},
     "output_type": "display_data"
    }
   ],
   "source": [
    "#Histogram of Male vs Female Buyers - Slicing-based Method \n",
    "plt.figure(figsize=(9,7))\n",
    "cars_data.loc[buyer_male,'Buyer Gender'].hist(bins=5,label='Male Buyer')\n",
    "cars_data.loc[buyer_female,'Buyer Gender'].hist(bins=5,label='Female Buyer')\n",
    "plt.xlabel(\"BUYER GENDER\",fontsize=12)\n",
    "plt.ylabel(\"VALUE COUNT\",fontsize=12)\n",
    "plt.legend(loc=(1.02,0.4))\n",
    "plt.show()"
   ]
  },
  {
   "cell_type": "code",
   "execution_count": null,
   "metadata": {},
   "outputs": [],
   "source": []
  },
  {
   "cell_type": "code",
   "execution_count": null,
   "metadata": {},
   "outputs": [],
   "source": []
  },
  {
   "cell_type": "code",
   "execution_count": null,
   "metadata": {},
   "outputs": [],
   "source": []
  },
  {
   "cell_type": "markdown",
   "metadata": {},
   "source": [
    "### Step 4: Find the top 5 cars based on their sales price."
   ]
  },
  {
   "cell_type": "code",
   "execution_count": 13,
   "metadata": {},
   "outputs": [],
   "source": [
    "#we sort the cars_data in descending order of values in sale price column\n",
    "cars_data = cars_data.sort_values(\"Sale Price\",ascending=False)"
   ]
  },
  {
   "cell_type": "code",
   "execution_count": 14,
   "metadata": {},
   "outputs": [],
   "source": [
    "toppriced_cars = cars_data[['Make','Model','Sale Price']]"
   ]
  },
  {
   "cell_type": "code",
   "execution_count": 15,
   "metadata": {},
   "outputs": [
    {
     "data": {
      "text/html": [
       "<div>\n",
       "<style scoped>\n",
       "    .dataframe tbody tr th:only-of-type {\n",
       "        vertical-align: middle;\n",
       "    }\n",
       "\n",
       "    .dataframe tbody tr th {\n",
       "        vertical-align: top;\n",
       "    }\n",
       "\n",
       "    .dataframe thead th {\n",
       "        text-align: right;\n",
       "    }\n",
       "</style>\n",
       "<table border=\"1\" class=\"dataframe\">\n",
       "  <thead>\n",
       "    <tr style=\"text-align: right;\">\n",
       "      <th></th>\n",
       "      <th>Make</th>\n",
       "      <th>Model</th>\n",
       "      <th>Sale Price</th>\n",
       "    </tr>\n",
       "  </thead>\n",
       "  <tbody>\n",
       "    <tr>\n",
       "      <th>5984</th>\n",
       "      <td>Volkswagen</td>\n",
       "      <td>Jetta III</td>\n",
       "      <td>99997.65</td>\n",
       "    </tr>\n",
       "    <tr>\n",
       "      <th>1270</th>\n",
       "      <td>Audi</td>\n",
       "      <td>A6</td>\n",
       "      <td>99991.91</td>\n",
       "    </tr>\n",
       "    <tr>\n",
       "      <th>3460</th>\n",
       "      <td>Lexus</td>\n",
       "      <td>LX</td>\n",
       "      <td>99983.38</td>\n",
       "    </tr>\n",
       "    <tr>\n",
       "      <th>9032</th>\n",
       "      <td>Mazda</td>\n",
       "      <td>MX-6</td>\n",
       "      <td>99978.17</td>\n",
       "    </tr>\n",
       "    <tr>\n",
       "      <th>302</th>\n",
       "      <td>Lexus</td>\n",
       "      <td>ES</td>\n",
       "      <td>99973.44</td>\n",
       "    </tr>\n",
       "  </tbody>\n",
       "</table>\n",
       "</div>"
      ],
      "text/plain": [
       "            Make      Model  Sale Price\n",
       "5984  Volkswagen  Jetta III    99997.65\n",
       "1270        Audi         A6    99991.91\n",
       "3460       Lexus         LX    99983.38\n",
       "9032       Mazda       MX-6    99978.17\n",
       "302        Lexus         ES    99973.44"
      ]
     },
     "execution_count": 15,
     "metadata": {},
     "output_type": "execute_result"
    }
   ],
   "source": [
    "toppriced_cars.head()"
   ]
  },
  {
   "cell_type": "code",
   "execution_count": null,
   "metadata": {},
   "outputs": [],
   "source": []
  },
  {
   "cell_type": "code",
   "execution_count": 16,
   "metadata": {},
   "outputs": [
    {
     "data": {
      "text/plain": [
       "99997.65"
      ]
     },
     "execution_count": 16,
     "metadata": {},
     "output_type": "execute_result"
    }
   ],
   "source": [
    "#to confirm the data, we check for the max value in the 'Sale Price' column\n",
    "sale_price = cars_data['Sale Price']\n",
    "sale_price.max()"
   ]
  },
  {
   "cell_type": "code",
   "execution_count": 17,
   "metadata": {},
   "outputs": [
    {
     "data": {
      "text/plain": [
       "array(['Volkswagen', 'Jetta III', 'Rachael', 'Female', 'Female', 73,\n",
       "       'core', 'Russia', 'Krasnoyarka', 59.41820799999999,\n",
       "       60.514706000000004, 'Blue', False, '10/05/2014', 99997.65, 0.1695,\n",
       "       31601.95, 0.06, 204.9, 12.6], dtype=object)"
      ]
     },
     "execution_count": 17,
     "metadata": {},
     "output_type": "execute_result"
    }
   ],
   "source": [
    "cars_data.loc[cars_data['Sale Price'].idxmax()].values"
   ]
  },
  {
   "cell_type": "code",
   "execution_count": 18,
   "metadata": {},
   "outputs": [
    {
     "data": {
      "text/plain": [
       "Make                  Volkswagen\n",
       "Model                  Jetta III\n",
       "Nickname                 Rachael\n",
       "Car Gender                Female\n",
       "Buyer Gender              Female\n",
       "Buyer Age                     73\n",
       "Buzzword                    core\n",
       "Country                   Russia\n",
       "City                 Krasnoyarka\n",
       "Dealer Latitude          59.4182\n",
       "Dealer Longitude         60.5147\n",
       "Color                       Blue\n",
       "New Car                    False\n",
       "Purchase Date         10/05/2014\n",
       "Sale Price               99997.6\n",
       "Discount                  0.1695\n",
       "Resell Price               31602\n",
       "5-yr Depreciation           0.06\n",
       "Top Speed                  204.9\n",
       "0-60 Time                   12.6\n",
       "Name: 5984, dtype: object"
      ]
     },
     "execution_count": 18,
     "metadata": {},
     "output_type": "execute_result"
    }
   ],
   "source": [
    "cars_data.loc[5984,:]"
   ]
  },
  {
   "cell_type": "code",
   "execution_count": 19,
   "metadata": {},
   "outputs": [],
   "source": [
    "#We see that the details match in both the methods "
   ]
  },
  {
   "cell_type": "code",
   "execution_count": 20,
   "metadata": {},
   "outputs": [
    {
     "data": {
      "text/html": [
       "<div>\n",
       "<style scoped>\n",
       "    .dataframe tbody tr th:only-of-type {\n",
       "        vertical-align: middle;\n",
       "    }\n",
       "\n",
       "    .dataframe tbody tr th {\n",
       "        vertical-align: top;\n",
       "    }\n",
       "\n",
       "    .dataframe thead th {\n",
       "        text-align: right;\n",
       "    }\n",
       "</style>\n",
       "<table border=\"1\" class=\"dataframe\">\n",
       "  <thead>\n",
       "    <tr style=\"text-align: right;\">\n",
       "      <th></th>\n",
       "      <th>Make</th>\n",
       "      <th>Model</th>\n",
       "      <th>Sale Price</th>\n",
       "    </tr>\n",
       "  </thead>\n",
       "  <tbody>\n",
       "    <tr>\n",
       "      <th>5984</th>\n",
       "      <td>Volkswagen</td>\n",
       "      <td>Jetta III</td>\n",
       "      <td>99997.65</td>\n",
       "    </tr>\n",
       "    <tr>\n",
       "      <th>1270</th>\n",
       "      <td>Audi</td>\n",
       "      <td>A6</td>\n",
       "      <td>99991.91</td>\n",
       "    </tr>\n",
       "    <tr>\n",
       "      <th>3460</th>\n",
       "      <td>Lexus</td>\n",
       "      <td>LX</td>\n",
       "      <td>99983.38</td>\n",
       "    </tr>\n",
       "    <tr>\n",
       "      <th>9032</th>\n",
       "      <td>Mazda</td>\n",
       "      <td>MX-6</td>\n",
       "      <td>99978.17</td>\n",
       "    </tr>\n",
       "    <tr>\n",
       "      <th>302</th>\n",
       "      <td>Lexus</td>\n",
       "      <td>ES</td>\n",
       "      <td>99973.44</td>\n",
       "    </tr>\n",
       "  </tbody>\n",
       "</table>\n",
       "</div>"
      ],
      "text/plain": [
       "            Make      Model  Sale Price\n",
       "5984  Volkswagen  Jetta III    99997.65\n",
       "1270        Audi         A6    99991.91\n",
       "3460       Lexus         LX    99983.38\n",
       "9032       Mazda       MX-6    99978.17\n",
       "302        Lexus         ES    99973.44"
      ]
     },
     "execution_count": 20,
     "metadata": {},
     "output_type": "execute_result"
    }
   ],
   "source": [
    "#Hence, the top five cars based on their SALE PRICES are:\n",
    "toppriced_cars.head()"
   ]
  },
  {
   "cell_type": "code",
   "execution_count": null,
   "metadata": {},
   "outputs": [],
   "source": []
  },
  {
   "cell_type": "code",
   "execution_count": 21,
   "metadata": {},
   "outputs": [
    {
     "data": {
      "text/html": [
       "<div>\n",
       "<style scoped>\n",
       "    .dataframe tbody tr th:only-of-type {\n",
       "        vertical-align: middle;\n",
       "    }\n",
       "\n",
       "    .dataframe tbody tr th {\n",
       "        vertical-align: top;\n",
       "    }\n",
       "\n",
       "    .dataframe thead th {\n",
       "        text-align: right;\n",
       "    }\n",
       "</style>\n",
       "<table border=\"1\" class=\"dataframe\">\n",
       "  <thead>\n",
       "    <tr style=\"text-align: right;\">\n",
       "      <th></th>\n",
       "      <th>Make</th>\n",
       "      <th>Model</th>\n",
       "      <th>Nickname</th>\n",
       "      <th>Car Gender</th>\n",
       "      <th>Buyer Gender</th>\n",
       "      <th>Buyer Age</th>\n",
       "      <th>Buzzword</th>\n",
       "      <th>Country</th>\n",
       "      <th>City</th>\n",
       "      <th>Dealer Latitude</th>\n",
       "      <th>Dealer Longitude</th>\n",
       "      <th>Color</th>\n",
       "      <th>New Car</th>\n",
       "      <th>Purchase Date</th>\n",
       "      <th>Sale Price</th>\n",
       "      <th>Discount</th>\n",
       "      <th>Resell Price</th>\n",
       "      <th>5-yr Depreciation</th>\n",
       "      <th>Top Speed</th>\n",
       "      <th>0-60 Time</th>\n",
       "    </tr>\n",
       "  </thead>\n",
       "  <tbody>\n",
       "    <tr>\n",
       "      <th>5984</th>\n",
       "      <td>Volkswagen</td>\n",
       "      <td>Jetta III</td>\n",
       "      <td>Rachael</td>\n",
       "      <td>Female</td>\n",
       "      <td>Female</td>\n",
       "      <td>73</td>\n",
       "      <td>core</td>\n",
       "      <td>Russia</td>\n",
       "      <td>Krasnoyarka</td>\n",
       "      <td>59.418208</td>\n",
       "      <td>60.514706</td>\n",
       "      <td>Blue</td>\n",
       "      <td>False</td>\n",
       "      <td>10/05/2014</td>\n",
       "      <td>99997.65</td>\n",
       "      <td>0.1695</td>\n",
       "      <td>31601.95</td>\n",
       "      <td>0.06</td>\n",
       "      <td>204.9</td>\n",
       "      <td>12.6</td>\n",
       "    </tr>\n",
       "    <tr>\n",
       "      <th>1270</th>\n",
       "      <td>Audi</td>\n",
       "      <td>A6</td>\n",
       "      <td>Thorn</td>\n",
       "      <td>Male</td>\n",
       "      <td>Male</td>\n",
       "      <td>75</td>\n",
       "      <td>function</td>\n",
       "      <td>Latvia</td>\n",
       "      <td>Līgatne</td>\n",
       "      <td>57.236340</td>\n",
       "      <td>25.038073</td>\n",
       "      <td>Blue</td>\n",
       "      <td>True</td>\n",
       "      <td>30/01/2017</td>\n",
       "      <td>99991.91</td>\n",
       "      <td>0.4692</td>\n",
       "      <td>34711.19</td>\n",
       "      <td>0.16</td>\n",
       "      <td>171.3</td>\n",
       "      <td>13.0</td>\n",
       "    </tr>\n",
       "    <tr>\n",
       "      <th>3460</th>\n",
       "      <td>Lexus</td>\n",
       "      <td>LX</td>\n",
       "      <td>Aldin</td>\n",
       "      <td>Female</td>\n",
       "      <td>Male</td>\n",
       "      <td>38</td>\n",
       "      <td>software</td>\n",
       "      <td>Malaysia</td>\n",
       "      <td>Pasir Mas</td>\n",
       "      <td>6.109065</td>\n",
       "      <td>102.133622</td>\n",
       "      <td>Orange</td>\n",
       "      <td>False</td>\n",
       "      <td>04/03/2018</td>\n",
       "      <td>99983.38</td>\n",
       "      <td>0.1170</td>\n",
       "      <td>21462.44</td>\n",
       "      <td>0.12</td>\n",
       "      <td>193.7</td>\n",
       "      <td>4.5</td>\n",
       "    </tr>\n",
       "    <tr>\n",
       "      <th>9032</th>\n",
       "      <td>Mazda</td>\n",
       "      <td>MX-6</td>\n",
       "      <td>Sylvester</td>\n",
       "      <td>Female</td>\n",
       "      <td>Male</td>\n",
       "      <td>26</td>\n",
       "      <td>internet solution</td>\n",
       "      <td>Russia</td>\n",
       "      <td>Krutaya Gorka</td>\n",
       "      <td>55.369917</td>\n",
       "      <td>73.222396</td>\n",
       "      <td>Pink</td>\n",
       "      <td>False</td>\n",
       "      <td>11/12/2014</td>\n",
       "      <td>99978.17</td>\n",
       "      <td>0.6021</td>\n",
       "      <td>45958.19</td>\n",
       "      <td>0.15</td>\n",
       "      <td>232.0</td>\n",
       "      <td>3.9</td>\n",
       "    </tr>\n",
       "    <tr>\n",
       "      <th>302</th>\n",
       "      <td>Lexus</td>\n",
       "      <td>ES</td>\n",
       "      <td>Brig</td>\n",
       "      <td>Female</td>\n",
       "      <td>Male</td>\n",
       "      <td>39</td>\n",
       "      <td>user-facing</td>\n",
       "      <td>Canada</td>\n",
       "      <td>Langford</td>\n",
       "      <td>48.447463</td>\n",
       "      <td>-123.495634</td>\n",
       "      <td>Maroon</td>\n",
       "      <td>False</td>\n",
       "      <td>26/07/2018</td>\n",
       "      <td>99973.44</td>\n",
       "      <td>0.6294</td>\n",
       "      <td>32521.53</td>\n",
       "      <td>0.21</td>\n",
       "      <td>228.1</td>\n",
       "      <td>4.7</td>\n",
       "    </tr>\n",
       "  </tbody>\n",
       "</table>\n",
       "</div>"
      ],
      "text/plain": [
       "            Make      Model   Nickname Car Gender Buyer Gender  Buyer Age  \\\n",
       "5984  Volkswagen  Jetta III    Rachael     Female       Female         73   \n",
       "1270        Audi         A6      Thorn       Male         Male         75   \n",
       "3460       Lexus         LX      Aldin     Female         Male         38   \n",
       "9032       Mazda       MX-6  Sylvester     Female         Male         26   \n",
       "302        Lexus         ES       Brig     Female         Male         39   \n",
       "\n",
       "               Buzzword   Country           City  Dealer Latitude  \\\n",
       "5984               core    Russia    Krasnoyarka        59.418208   \n",
       "1270           function    Latvia        Līgatne        57.236340   \n",
       "3460           software  Malaysia      Pasir Mas         6.109065   \n",
       "9032  internet solution    Russia  Krutaya Gorka        55.369917   \n",
       "302         user-facing    Canada       Langford        48.447463   \n",
       "\n",
       "      Dealer Longitude   Color  New Car Purchase Date  Sale Price  Discount  \\\n",
       "5984         60.514706    Blue    False    10/05/2014    99997.65    0.1695   \n",
       "1270         25.038073    Blue     True    30/01/2017    99991.91    0.4692   \n",
       "3460        102.133622  Orange    False    04/03/2018    99983.38    0.1170   \n",
       "9032         73.222396    Pink    False    11/12/2014    99978.17    0.6021   \n",
       "302        -123.495634  Maroon    False    26/07/2018    99973.44    0.6294   \n",
       "\n",
       "      Resell Price  5-yr Depreciation  Top Speed  0-60 Time  \n",
       "5984      31601.95               0.06      204.9       12.6  \n",
       "1270      34711.19               0.16      171.3       13.0  \n",
       "3460      21462.44               0.12      193.7        4.5  \n",
       "9032      45958.19               0.15      232.0        3.9  \n",
       "302       32521.53               0.21      228.1        4.7  "
      ]
     },
     "execution_count": 21,
     "metadata": {},
     "output_type": "execute_result"
    }
   ],
   "source": [
    "cars_data.sort_values(\"Sale Price\",ascending=False).head()"
   ]
  },
  {
   "cell_type": "markdown",
   "metadata": {},
   "source": [
    "#### Observations:\n",
    "* The most priced car is Volkswagen Jetta III with 99997.65 USD.\n",
    "* The 2nd, 3rd, 4th and 5th most-priced models are Audi A6, Lexus LX, Mazda MX-6 and Lexus ES.\n",
    "* All the top five priced cars have Sale Price above 99970 USD.\n",
    "* Among this, except for Audi A6, all the other cars are used cars. \n",
    "* All the top-5 priced cars are purchased between 2014-2018 year period.\n",
    "* As seen from the data, these cars are likely to have the price based on their Make, Top Speed (170-230 range),Resale Value and Time taken to reach 0-60 speed."
   ]
  },
  {
   "cell_type": "code",
   "execution_count": null,
   "metadata": {},
   "outputs": [],
   "source": []
  },
  {
   "cell_type": "code",
   "execution_count": null,
   "metadata": {},
   "outputs": [],
   "source": []
  },
  {
   "cell_type": "code",
   "execution_count": null,
   "metadata": {},
   "outputs": [],
   "source": []
  },
  {
   "cell_type": "markdown",
   "metadata": {},
   "source": [
    "### Step 5: Find the least 5 cars based on their Resell price."
   ]
  },
  {
   "cell_type": "code",
   "execution_count": 22,
   "metadata": {},
   "outputs": [],
   "source": [
    "#we sort the cars_data in ascending order of values in 'Resell Price' column\n",
    "cars_data = cars_data.sort_values(\"Resell Price\",ascending=True)"
   ]
  },
  {
   "cell_type": "code",
   "execution_count": 23,
   "metadata": {},
   "outputs": [],
   "source": [
    "car_resell = cars_data[['Make','Model','Resell Price']]"
   ]
  },
  {
   "cell_type": "code",
   "execution_count": 24,
   "metadata": {},
   "outputs": [
    {
     "data": {
      "text/html": [
       "<div>\n",
       "<style scoped>\n",
       "    .dataframe tbody tr th:only-of-type {\n",
       "        vertical-align: middle;\n",
       "    }\n",
       "\n",
       "    .dataframe tbody tr th {\n",
       "        vertical-align: top;\n",
       "    }\n",
       "\n",
       "    .dataframe thead th {\n",
       "        text-align: right;\n",
       "    }\n",
       "</style>\n",
       "<table border=\"1\" class=\"dataframe\">\n",
       "  <thead>\n",
       "    <tr style=\"text-align: right;\">\n",
       "      <th></th>\n",
       "      <th>Make</th>\n",
       "      <th>Model</th>\n",
       "      <th>Resell Price</th>\n",
       "    </tr>\n",
       "  </thead>\n",
       "  <tbody>\n",
       "    <tr>\n",
       "      <th>2446</th>\n",
       "      <td>Chevrolet</td>\n",
       "      <td>1500</td>\n",
       "      <td>2000.84</td>\n",
       "    </tr>\n",
       "    <tr>\n",
       "      <th>4933</th>\n",
       "      <td>GMC</td>\n",
       "      <td>Savana 1500</td>\n",
       "      <td>2005.44</td>\n",
       "    </tr>\n",
       "    <tr>\n",
       "      <th>566</th>\n",
       "      <td>Jaguar</td>\n",
       "      <td>XF</td>\n",
       "      <td>2014.09</td>\n",
       "    </tr>\n",
       "    <tr>\n",
       "      <th>2538</th>\n",
       "      <td>Mitsubishi</td>\n",
       "      <td>3000GT</td>\n",
       "      <td>2017.24</td>\n",
       "    </tr>\n",
       "    <tr>\n",
       "      <th>5869</th>\n",
       "      <td>Infiniti</td>\n",
       "      <td>G37</td>\n",
       "      <td>2017.83</td>\n",
       "    </tr>\n",
       "  </tbody>\n",
       "</table>\n",
       "</div>"
      ],
      "text/plain": [
       "            Make        Model  Resell Price\n",
       "2446   Chevrolet         1500       2000.84\n",
       "4933         GMC  Savana 1500       2005.44\n",
       "566       Jaguar           XF       2014.09\n",
       "2538  Mitsubishi       3000GT       2017.24\n",
       "5869    Infiniti          G37       2017.83"
      ]
     },
     "execution_count": 24,
     "metadata": {},
     "output_type": "execute_result"
    }
   ],
   "source": [
    "car_resell.head()"
   ]
  },
  {
   "cell_type": "code",
   "execution_count": null,
   "metadata": {},
   "outputs": [],
   "source": []
  },
  {
   "cell_type": "code",
   "execution_count": 25,
   "metadata": {},
   "outputs": [
    {
     "data": {
      "text/plain": [
       "2000.84"
      ]
     },
     "execution_count": 25,
     "metadata": {},
     "output_type": "execute_result"
    }
   ],
   "source": [
    "#to confirm the data, we check for the min value in the 'Resell Price' column\n",
    "resell_price = cars_data['Resell Price']\n",
    "resell_price.min()"
   ]
  },
  {
   "cell_type": "code",
   "execution_count": 26,
   "metadata": {},
   "outputs": [
    {
     "data": {
      "text/plain": [
       "array(['Chevrolet', '1500', 'Corenda', 'Male', 'Female', 25,\n",
       "       'collaboration', 'Philippines', 'Tubigan', 8.490877000000001,\n",
       "       124.345771, 'Khaki', False, '20/03/2002', 49909.44,\n",
       "       0.44799999999999995, 2000.84, 0.25, 239.6, 11.2], dtype=object)"
      ]
     },
     "execution_count": 26,
     "metadata": {},
     "output_type": "execute_result"
    }
   ],
   "source": [
    "cars_data.loc[cars_data['Resell Price'].idxmin()].values"
   ]
  },
  {
   "cell_type": "code",
   "execution_count": 27,
   "metadata": {},
   "outputs": [
    {
     "data": {
      "text/plain": [
       "Make                     Chevrolet\n",
       "Model                         1500\n",
       "Nickname                   Corenda\n",
       "Car Gender                    Male\n",
       "Buyer Gender                Female\n",
       "Buyer Age                       25\n",
       "Buzzword             collaboration\n",
       "Country                Philippines\n",
       "City                       Tubigan\n",
       "Dealer Latitude            8.49088\n",
       "Dealer Longitude           124.346\n",
       "Color                        Khaki\n",
       "New Car                      False\n",
       "Purchase Date           20/03/2002\n",
       "Sale Price                 49909.4\n",
       "Discount                     0.448\n",
       "Resell Price               2000.84\n",
       "5-yr Depreciation             0.25\n",
       "Top Speed                    239.6\n",
       "0-60 Time                     11.2\n",
       "Name: 2446, dtype: object"
      ]
     },
     "execution_count": 27,
     "metadata": {},
     "output_type": "execute_result"
    }
   ],
   "source": [
    "cars_data.loc[2446,:]"
   ]
  },
  {
   "cell_type": "code",
   "execution_count": 28,
   "metadata": {},
   "outputs": [],
   "source": [
    "#We see that the details match in both the methods "
   ]
  },
  {
   "cell_type": "code",
   "execution_count": 29,
   "metadata": {},
   "outputs": [
    {
     "data": {
      "text/html": [
       "<div>\n",
       "<style scoped>\n",
       "    .dataframe tbody tr th:only-of-type {\n",
       "        vertical-align: middle;\n",
       "    }\n",
       "\n",
       "    .dataframe tbody tr th {\n",
       "        vertical-align: top;\n",
       "    }\n",
       "\n",
       "    .dataframe thead th {\n",
       "        text-align: right;\n",
       "    }\n",
       "</style>\n",
       "<table border=\"1\" class=\"dataframe\">\n",
       "  <thead>\n",
       "    <tr style=\"text-align: right;\">\n",
       "      <th></th>\n",
       "      <th>Make</th>\n",
       "      <th>Model</th>\n",
       "      <th>Resell Price</th>\n",
       "    </tr>\n",
       "  </thead>\n",
       "  <tbody>\n",
       "    <tr>\n",
       "      <th>2446</th>\n",
       "      <td>Chevrolet</td>\n",
       "      <td>1500</td>\n",
       "      <td>2000.84</td>\n",
       "    </tr>\n",
       "    <tr>\n",
       "      <th>4933</th>\n",
       "      <td>GMC</td>\n",
       "      <td>Savana 1500</td>\n",
       "      <td>2005.44</td>\n",
       "    </tr>\n",
       "    <tr>\n",
       "      <th>566</th>\n",
       "      <td>Jaguar</td>\n",
       "      <td>XF</td>\n",
       "      <td>2014.09</td>\n",
       "    </tr>\n",
       "    <tr>\n",
       "      <th>2538</th>\n",
       "      <td>Mitsubishi</td>\n",
       "      <td>3000GT</td>\n",
       "      <td>2017.24</td>\n",
       "    </tr>\n",
       "    <tr>\n",
       "      <th>5869</th>\n",
       "      <td>Infiniti</td>\n",
       "      <td>G37</td>\n",
       "      <td>2017.83</td>\n",
       "    </tr>\n",
       "  </tbody>\n",
       "</table>\n",
       "</div>"
      ],
      "text/plain": [
       "            Make        Model  Resell Price\n",
       "2446   Chevrolet         1500       2000.84\n",
       "4933         GMC  Savana 1500       2005.44\n",
       "566       Jaguar           XF       2014.09\n",
       "2538  Mitsubishi       3000GT       2017.24\n",
       "5869    Infiniti          G37       2017.83"
      ]
     },
     "execution_count": 29,
     "metadata": {},
     "output_type": "execute_result"
    }
   ],
   "source": [
    "#Hence, the top five cars based on their SALE PRICES are:\n",
    "car_resell.head()"
   ]
  },
  {
   "cell_type": "code",
   "execution_count": null,
   "metadata": {},
   "outputs": [],
   "source": []
  },
  {
   "cell_type": "code",
   "execution_count": 30,
   "metadata": {},
   "outputs": [
    {
     "data": {
      "text/html": [
       "<div>\n",
       "<style scoped>\n",
       "    .dataframe tbody tr th:only-of-type {\n",
       "        vertical-align: middle;\n",
       "    }\n",
       "\n",
       "    .dataframe tbody tr th {\n",
       "        vertical-align: top;\n",
       "    }\n",
       "\n",
       "    .dataframe thead th {\n",
       "        text-align: right;\n",
       "    }\n",
       "</style>\n",
       "<table border=\"1\" class=\"dataframe\">\n",
       "  <thead>\n",
       "    <tr style=\"text-align: right;\">\n",
       "      <th></th>\n",
       "      <th>Make</th>\n",
       "      <th>Model</th>\n",
       "      <th>Nickname</th>\n",
       "      <th>Car Gender</th>\n",
       "      <th>Buyer Gender</th>\n",
       "      <th>Buyer Age</th>\n",
       "      <th>Buzzword</th>\n",
       "      <th>Country</th>\n",
       "      <th>City</th>\n",
       "      <th>Dealer Latitude</th>\n",
       "      <th>Dealer Longitude</th>\n",
       "      <th>Color</th>\n",
       "      <th>New Car</th>\n",
       "      <th>Purchase Date</th>\n",
       "      <th>Sale Price</th>\n",
       "      <th>Discount</th>\n",
       "      <th>Resell Price</th>\n",
       "      <th>5-yr Depreciation</th>\n",
       "      <th>Top Speed</th>\n",
       "      <th>0-60 Time</th>\n",
       "    </tr>\n",
       "  </thead>\n",
       "  <tbody>\n",
       "    <tr>\n",
       "      <th>2446</th>\n",
       "      <td>Chevrolet</td>\n",
       "      <td>1500</td>\n",
       "      <td>Corenda</td>\n",
       "      <td>Male</td>\n",
       "      <td>Female</td>\n",
       "      <td>25</td>\n",
       "      <td>collaboration</td>\n",
       "      <td>Philippines</td>\n",
       "      <td>Tubigan</td>\n",
       "      <td>8.490877</td>\n",
       "      <td>124.345771</td>\n",
       "      <td>Khaki</td>\n",
       "      <td>False</td>\n",
       "      <td>20/03/2002</td>\n",
       "      <td>49909.44</td>\n",
       "      <td>0.4480</td>\n",
       "      <td>2000.84</td>\n",
       "      <td>0.25</td>\n",
       "      <td>239.6</td>\n",
       "      <td>11.2</td>\n",
       "    </tr>\n",
       "    <tr>\n",
       "      <th>4933</th>\n",
       "      <td>GMC</td>\n",
       "      <td>Savana 1500</td>\n",
       "      <td>Lark</td>\n",
       "      <td>Female</td>\n",
       "      <td>Female</td>\n",
       "      <td>34</td>\n",
       "      <td>interactive</td>\n",
       "      <td>Poland</td>\n",
       "      <td>Śródmieście</td>\n",
       "      <td>53.838651</td>\n",
       "      <td>22.988241</td>\n",
       "      <td>Blue</td>\n",
       "      <td>False</td>\n",
       "      <td>15/04/2010</td>\n",
       "      <td>80084.82</td>\n",
       "      <td>0.2334</td>\n",
       "      <td>2005.44</td>\n",
       "      <td>0.01</td>\n",
       "      <td>158.7</td>\n",
       "      <td>9.0</td>\n",
       "    </tr>\n",
       "    <tr>\n",
       "      <th>566</th>\n",
       "      <td>Jaguar</td>\n",
       "      <td>XF</td>\n",
       "      <td>Payton</td>\n",
       "      <td>Female</td>\n",
       "      <td>Male</td>\n",
       "      <td>64</td>\n",
       "      <td>Visionary</td>\n",
       "      <td>Nigeria</td>\n",
       "      <td>Ikot-Ekpene</td>\n",
       "      <td>5.174447</td>\n",
       "      <td>7.714515</td>\n",
       "      <td>Red</td>\n",
       "      <td>True</td>\n",
       "      <td>26/01/2016</td>\n",
       "      <td>24124.99</td>\n",
       "      <td>0.5328</td>\n",
       "      <td>2014.09</td>\n",
       "      <td>0.19</td>\n",
       "      <td>249.3</td>\n",
       "      <td>6.9</td>\n",
       "    </tr>\n",
       "    <tr>\n",
       "      <th>2538</th>\n",
       "      <td>Mitsubishi</td>\n",
       "      <td>3000GT</td>\n",
       "      <td>Thia</td>\n",
       "      <td>Female</td>\n",
       "      <td>Female</td>\n",
       "      <td>25</td>\n",
       "      <td>well-modulated</td>\n",
       "      <td>China</td>\n",
       "      <td>Yanweigang</td>\n",
       "      <td>34.509325</td>\n",
       "      <td>119.751715</td>\n",
       "      <td>Goldenrod</td>\n",
       "      <td>True</td>\n",
       "      <td>13/02/2011</td>\n",
       "      <td>88195.95</td>\n",
       "      <td>0.0391</td>\n",
       "      <td>2017.24</td>\n",
       "      <td>0.14</td>\n",
       "      <td>222.0</td>\n",
       "      <td>10.3</td>\n",
       "    </tr>\n",
       "    <tr>\n",
       "      <th>5869</th>\n",
       "      <td>Infiniti</td>\n",
       "      <td>G37</td>\n",
       "      <td>Sonny</td>\n",
       "      <td>Male</td>\n",
       "      <td>Male</td>\n",
       "      <td>20</td>\n",
       "      <td>optimizing</td>\n",
       "      <td>France</td>\n",
       "      <td>Clermont-Ferrand</td>\n",
       "      <td>45.786764</td>\n",
       "      <td>3.160264</td>\n",
       "      <td>Indigo</td>\n",
       "      <td>False</td>\n",
       "      <td>24/11/2002</td>\n",
       "      <td>77791.65</td>\n",
       "      <td>0.5691</td>\n",
       "      <td>2017.83</td>\n",
       "      <td>0.04</td>\n",
       "      <td>131.6</td>\n",
       "      <td>12.3</td>\n",
       "    </tr>\n",
       "  </tbody>\n",
       "</table>\n",
       "</div>"
      ],
      "text/plain": [
       "            Make        Model Nickname Car Gender Buyer Gender  Buyer Age  \\\n",
       "2446   Chevrolet         1500  Corenda       Male       Female         25   \n",
       "4933         GMC  Savana 1500     Lark     Female       Female         34   \n",
       "566       Jaguar           XF   Payton     Female         Male         64   \n",
       "2538  Mitsubishi       3000GT     Thia     Female       Female         25   \n",
       "5869    Infiniti          G37    Sonny       Male         Male         20   \n",
       "\n",
       "            Buzzword      Country              City  Dealer Latitude  \\\n",
       "2446   collaboration  Philippines           Tubigan         8.490877   \n",
       "4933     interactive       Poland       Śródmieście        53.838651   \n",
       "566        Visionary      Nigeria       Ikot-Ekpene         5.174447   \n",
       "2538  well-modulated        China        Yanweigang        34.509325   \n",
       "5869      optimizing       France  Clermont-Ferrand        45.786764   \n",
       "\n",
       "      Dealer Longitude      Color  New Car Purchase Date  Sale Price  \\\n",
       "2446        124.345771      Khaki    False    20/03/2002    49909.44   \n",
       "4933         22.988241       Blue    False    15/04/2010    80084.82   \n",
       "566           7.714515        Red     True    26/01/2016    24124.99   \n",
       "2538        119.751715  Goldenrod     True    13/02/2011    88195.95   \n",
       "5869          3.160264     Indigo    False    24/11/2002    77791.65   \n",
       "\n",
       "      Discount  Resell Price  5-yr Depreciation  Top Speed  0-60 Time  \n",
       "2446    0.4480       2000.84               0.25      239.6       11.2  \n",
       "4933    0.2334       2005.44               0.01      158.7        9.0  \n",
       "566     0.5328       2014.09               0.19      249.3        6.9  \n",
       "2538    0.0391       2017.24               0.14      222.0       10.3  \n",
       "5869    0.5691       2017.83               0.04      131.6       12.3  "
      ]
     },
     "execution_count": 30,
     "metadata": {},
     "output_type": "execute_result"
    }
   ],
   "source": [
    "cars_data.sort_values(\"Resell Price\").head()"
   ]
  },
  {
   "cell_type": "code",
   "execution_count": null,
   "metadata": {},
   "outputs": [],
   "source": []
  },
  {
   "cell_type": "markdown",
   "metadata": {},
   "source": [
    "#### Observations:\n",
    "* The car with the least resale price is Chevrolet 1500 with only 2000.84 USD.\n",
    "* The 2nd, 3rd, 4th and 5th least resale-priced models are GMC Savanna 1500, Jaguar XF, Mitsubishi 3000GT and Infiniti G37.\n",
    "* All the lowest five resale priced cars have Resale Price below 2100 USD.\n",
    "* Among this, except for Jaguar XF, all the other cars were purchased on or before the year 2011. \n",
    "* The least resale valud car (Chevrolet 1500) was purchased in the year 2002.\n",
    "* Mitsubishi 3000GT is a complete loss as its Sale Price is 88195.95 but Resell Price is just 2017.24 USD, even after being a New Car purchased in 2011.\n",
    "* As seen from the data, these cars are likely to have the resale price based on their Make, Age (number of years from purchase), and other technicalities.\n",
    "* Jaguar XF has the best comparitive resale price among the five cars mentioned, getting around 8.34% of the Sale Price.\n",
    "* Mitsubishi 3000GT has the worst comparitive resale price among the five cars mentioned, getting only 2.28% of the Sale Price."
   ]
  },
  {
   "cell_type": "code",
   "execution_count": null,
   "metadata": {},
   "outputs": [],
   "source": []
  },
  {
   "cell_type": "code",
   "execution_count": 31,
   "metadata": {},
   "outputs": [],
   "source": [
    "#Submitted by Sujith Narayanan\n",
    "#DSA_B3 - 2021 October Batch"
   ]
  },
  {
   "cell_type": "markdown",
   "metadata": {},
   "source": [
    "<h2><center> - END OF CASE STUDY - </center></h2>"
   ]
  }
 ],
 "metadata": {
  "kernelspec": {
   "display_name": "Python 3",
   "language": "python",
   "name": "python3"
  },
  "language_info": {
   "codemirror_mode": {
    "name": "ipython",
    "version": 3
   },
   "file_extension": ".py",
   "mimetype": "text/x-python",
   "name": "python",
   "nbconvert_exporter": "python",
   "pygments_lexer": "ipython3",
   "version": "3.8.3"
  }
 },
 "nbformat": 4,
 "nbformat_minor": 4
}
